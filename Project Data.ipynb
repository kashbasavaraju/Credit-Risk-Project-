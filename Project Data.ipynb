{
 "cells": [
  {
   "cell_type": "markdown",
   "id": "31b919fc",
   "metadata": {},
   "source": [
    "# Sampling and Merging Data"
   ]
  },
  {
   "cell_type": "code",
   "execution_count": 1,
   "id": "61589075",
   "metadata": {},
   "outputs": [],
   "source": [
    "import pandas as pd\n",
    "import numpy as np"
   ]
  },
  {
   "cell_type": "code",
   "execution_count": 25,
   "id": "57def1c5",
   "metadata": {},
   "outputs": [],
   "source": [
    "train_labels_raw = pd.read_csv('/Users/maxhelman/Downloads/train_labels.csv')"
   ]
  },
  {
   "cell_type": "code",
   "execution_count": 26,
   "id": "54e5ac43",
   "metadata": {},
   "outputs": [
    {
     "data": {
      "text/plain": [
       "<bound method DataFrame.count of                                               customer_ID  target\n",
       "0       0000099d6bd597052cdcda90ffabf56573fe9d7c79be5f...       0\n",
       "1       00000fd6641609c6ece5454664794f0340ad84dddce9a2...       0\n",
       "2       00001b22f846c82c51f6e3958ccd81970162bae8b007e8...       0\n",
       "3       000041bdba6ecadd89a52d11886e8eaaec9325906c9723...       0\n",
       "4       00007889e4fcd2614b6cbe7f8f3d2e5c728eca32d9eb8a...       0\n",
       "...                                                   ...     ...\n",
       "458908  ffff41c8a52833b56430603969b9ca48d208e7c192c6a4...       0\n",
       "458909  ffff518bb2075e4816ee3fe9f3b152c57fc0e6f01bf7fd...       0\n",
       "458910  ffff9984b999fccb2b6127635ed0736dda94e544e67e02...       0\n",
       "458911  ffffa5c46bc8de74f5a4554e74e239c8dee6b9baf38814...       1\n",
       "458912  fffff1d38b785cef84adeace64f8f83db3a0c31e8d92ea...       0\n",
       "\n",
       "[458913 rows x 2 columns]>"
      ]
     },
     "execution_count": 26,
     "metadata": {},
     "output_type": "execute_result"
    }
   ],
   "source": [
    "train_labels_raw.count"
   ]
  },
  {
   "cell_type": "markdown",
   "id": "85bfc61b",
   "metadata": {},
   "source": [
    "Generate Random Sample"
   ]
  },
  {
   "cell_type": "code",
   "execution_count": 27,
   "id": "569f6540",
   "metadata": {},
   "outputs": [],
   "source": [
    "train_labels_20_sample = train_labels_raw.sample(frac=0.20, random_state = 42)"
   ]
  },
  {
   "cell_type": "code",
   "execution_count": 28,
   "id": "72abb730",
   "metadata": {},
   "outputs": [
    {
     "data": {
      "text/plain": [
       "(91783, 2)"
      ]
     },
     "execution_count": 28,
     "metadata": {},
     "output_type": "execute_result"
    }
   ],
   "source": [
    "train_labels_20_sample.shape"
   ]
  },
  {
   "cell_type": "code",
   "execution_count": 29,
   "id": "9f663bb7",
   "metadata": {},
   "outputs": [
    {
     "data": {
      "text/html": [
       "<div>\n",
       "<style scoped>\n",
       "    .dataframe tbody tr th:only-of-type {\n",
       "        vertical-align: middle;\n",
       "    }\n",
       "\n",
       "    .dataframe tbody tr th {\n",
       "        vertical-align: top;\n",
       "    }\n",
       "\n",
       "    .dataframe thead th {\n",
       "        text-align: right;\n",
       "    }\n",
       "</style>\n",
       "<table border=\"1\" class=\"dataframe\">\n",
       "  <thead>\n",
       "    <tr style=\"text-align: right;\">\n",
       "      <th></th>\n",
       "      <th>customer_ID</th>\n",
       "      <th>target</th>\n",
       "    </tr>\n",
       "  </thead>\n",
       "  <tbody>\n",
       "    <tr>\n",
       "      <th>33412</th>\n",
       "      <td>12c761e40348fa242de0356426fa9547f0feea34d1f57b...</td>\n",
       "      <td>0</td>\n",
       "    </tr>\n",
       "    <tr>\n",
       "      <th>350485</th>\n",
       "      <td>c34b0cf3175108892e42e9382e8177847ac15636870604...</td>\n",
       "      <td>1</td>\n",
       "    </tr>\n",
       "    <tr>\n",
       "      <th>36829</th>\n",
       "      <td>14aff3c0e0ed2aaaef6deb127f2541b67fdd0002615bfd...</td>\n",
       "      <td>0</td>\n",
       "    </tr>\n",
       "    <tr>\n",
       "      <th>444951</th>\n",
       "      <td>f82be644eb90ab65d737b6dfc5de670559fa2ca23c98ea...</td>\n",
       "      <td>0</td>\n",
       "    </tr>\n",
       "    <tr>\n",
       "      <th>17537</th>\n",
       "      <td>09dec6d53f0f12db6edcaecbb4d2bddf41f220ba9569d1...</td>\n",
       "      <td>0</td>\n",
       "    </tr>\n",
       "    <tr>\n",
       "      <th>103504</th>\n",
       "      <td>39840356aced228bdd231133902476a13ee94583a2af2b...</td>\n",
       "      <td>0</td>\n",
       "    </tr>\n",
       "    <tr>\n",
       "      <th>290139</th>\n",
       "      <td>a18c0fcc8b2d312dc813bfaaa3670a490df4ebcdc61d9e...</td>\n",
       "      <td>0</td>\n",
       "    </tr>\n",
       "    <tr>\n",
       "      <th>447558</th>\n",
       "      <td>f9a7295785ac43838cf0ed291a4f7e661a458cc5726f83...</td>\n",
       "      <td>0</td>\n",
       "    </tr>\n",
       "    <tr>\n",
       "      <th>118991</th>\n",
       "      <td>422271c20b6d4b6cec933866703dfd0b7cd7f7d566cdaf...</td>\n",
       "      <td>0</td>\n",
       "    </tr>\n",
       "    <tr>\n",
       "      <th>302848</th>\n",
       "      <td>a8a398aaae19e78a2e9f21c8445ea16ade997c2c143797...</td>\n",
       "      <td>1</td>\n",
       "    </tr>\n",
       "    <tr>\n",
       "      <th>311679</th>\n",
       "      <td>ad9b5425cc95185ed98eb4e952500c3f80362641780b66...</td>\n",
       "      <td>1</td>\n",
       "    </tr>\n",
       "    <tr>\n",
       "      <th>95058</th>\n",
       "      <td>34e6a4279820942bc6335bbc6807ea1cd6c76e20794ce6...</td>\n",
       "      <td>0</td>\n",
       "    </tr>\n",
       "    <tr>\n",
       "      <th>68966</th>\n",
       "      <td>2691713d716cd477400f1c69821e61741974b85e15ce98...</td>\n",
       "      <td>0</td>\n",
       "    </tr>\n",
       "    <tr>\n",
       "      <th>433845</th>\n",
       "      <td>f1d9eaf92a91b221e3b9eade0108a4a9afd7e8be5a9aae...</td>\n",
       "      <td>0</td>\n",
       "    </tr>\n",
       "    <tr>\n",
       "      <th>383652</th>\n",
       "      <td>d5ccedbe576f0f7172a0efd29597f0c61c436c4b0be7a5...</td>\n",
       "      <td>0</td>\n",
       "    </tr>\n",
       "  </tbody>\n",
       "</table>\n",
       "</div>"
      ],
      "text/plain": [
       "                                              customer_ID  target\n",
       "33412   12c761e40348fa242de0356426fa9547f0feea34d1f57b...       0\n",
       "350485  c34b0cf3175108892e42e9382e8177847ac15636870604...       1\n",
       "36829   14aff3c0e0ed2aaaef6deb127f2541b67fdd0002615bfd...       0\n",
       "444951  f82be644eb90ab65d737b6dfc5de670559fa2ca23c98ea...       0\n",
       "17537   09dec6d53f0f12db6edcaecbb4d2bddf41f220ba9569d1...       0\n",
       "103504  39840356aced228bdd231133902476a13ee94583a2af2b...       0\n",
       "290139  a18c0fcc8b2d312dc813bfaaa3670a490df4ebcdc61d9e...       0\n",
       "447558  f9a7295785ac43838cf0ed291a4f7e661a458cc5726f83...       0\n",
       "118991  422271c20b6d4b6cec933866703dfd0b7cd7f7d566cdaf...       0\n",
       "302848  a8a398aaae19e78a2e9f21c8445ea16ade997c2c143797...       1\n",
       "311679  ad9b5425cc95185ed98eb4e952500c3f80362641780b66...       1\n",
       "95058   34e6a4279820942bc6335bbc6807ea1cd6c76e20794ce6...       0\n",
       "68966   2691713d716cd477400f1c69821e61741974b85e15ce98...       0\n",
       "433845  f1d9eaf92a91b221e3b9eade0108a4a9afd7e8be5a9aae...       0\n",
       "383652  d5ccedbe576f0f7172a0efd29597f0c61c436c4b0be7a5...       0"
      ]
     },
     "execution_count": 29,
     "metadata": {},
     "output_type": "execute_result"
    }
   ],
   "source": [
    "train_labels_20_sample.head(15)"
   ]
  },
  {
   "cell_type": "markdown",
   "id": "8024d729",
   "metadata": {},
   "source": [
    "There are no null values"
   ]
  },
  {
   "cell_type": "code",
   "execution_count": 31,
   "id": "a1e2284d",
   "metadata": {},
   "outputs": [
    {
     "data": {
      "text/plain": [
       "0"
      ]
     },
     "execution_count": 31,
     "metadata": {},
     "output_type": "execute_result"
    }
   ],
   "source": [
    "train_labels_20_sample.isnull().any(axis = 1).sum()"
   ]
  },
  {
   "cell_type": "markdown",
   "id": "e2c05a60",
   "metadata": {},
   "source": [
    "Read train_data"
   ]
  },
  {
   "cell_type": "code",
   "execution_count": 33,
   "id": "54d809fc",
   "metadata": {},
   "outputs": [],
   "source": [
    "train_data_raw = pd.read_csv('/Users/maxhelman/Downloads/train_data.csv')"
   ]
  },
  {
   "cell_type": "markdown",
   "id": "49755189",
   "metadata": {},
   "source": [
    "##Merge Data"
   ]
  },
  {
   "cell_type": "code",
   "execution_count": 36,
   "id": "24f719f3",
   "metadata": {},
   "outputs": [],
   "source": [
    "train_merged_20 = pd.merge(train_data_raw,train_labels_20_sample, on=\"customer_ID\")"
   ]
  },
  {
   "cell_type": "code",
   "execution_count": 38,
   "id": "650a32bd",
   "metadata": {},
   "outputs": [
    {
     "data": {
      "text/plain": [
       "(5531451, 190)"
      ]
     },
     "execution_count": 38,
     "metadata": {},
     "output_type": "execute_result"
    }
   ],
   "source": [
    "train_data_raw.shape"
   ]
  },
  {
   "cell_type": "code",
   "execution_count": 37,
   "id": "9e27bf64",
   "metadata": {},
   "outputs": [
    {
     "data": {
      "text/plain": [
       "(1107082, 191)"
      ]
     },
     "execution_count": 37,
     "metadata": {},
     "output_type": "execute_result"
    }
   ],
   "source": [
    "train_merged_20.shape"
   ]
  },
  {
   "cell_type": "markdown",
   "id": "62be4ce2",
   "metadata": {},
   "source": [
    "##To CSV"
   ]
  },
  {
   "cell_type": "code",
   "execution_count": 43,
   "id": "22e51095",
   "metadata": {},
   "outputs": [],
   "source": [
    "train_merged_20.to_csv('/Users/maxhelman/Downloads/train_merged_20.csv', index=False)"
   ]
  },
  {
   "cell_type": "code",
   "execution_count": 2,
   "id": "47f892a1",
   "metadata": {},
   "outputs": [],
   "source": [
    "train_merged_20 = pd.read_csv('/Users/maxhelman/Downloads/train_merged_20.csv')"
   ]
  },
  {
   "cell_type": "code",
   "execution_count": null,
   "id": "b5725751",
   "metadata": {},
   "outputs": [],
   "source": [
    "train_merged_20['customer_ID'].nunique()"
   ]
  }
 ],
 "metadata": {
  "kernelspec": {
   "display_name": "Python 3 (ipykernel)",
   "language": "python",
   "name": "python3"
  },
  "language_info": {
   "codemirror_mode": {
    "name": "ipython",
    "version": 3
   },
   "file_extension": ".py",
   "mimetype": "text/x-python",
   "name": "python",
   "nbconvert_exporter": "python",
   "pygments_lexer": "ipython3",
   "version": "3.10.9"
  }
 },
 "nbformat": 4,
 "nbformat_minor": 5
}
